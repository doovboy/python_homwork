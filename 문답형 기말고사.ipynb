{
  "cells": [
    {
      "cell_type": "code",
      "execution_count": 2,
      "metadata": {},
      "outputs": [
        {
          "name": "stdout",
          "output_type": "stream",
          "text": [
            "Requirement already satisfied: openpyxl in c:\\users\\13002\\appdata\\local\\programs\\python\\python311\\lib\\site-packages (3.1.2)\n",
            "Requirement already satisfied: et-xmlfile in c:\\users\\13002\\appdata\\local\\programs\\python\\python311\\lib\\site-packages (from openpyxl) (1.1.0)\n"
          ]
        },
        {
          "name": "stderr",
          "output_type": "stream",
          "text": [
            "\n",
            "[notice] A new release of pip available: 22.3.1 -> 23.1.2\n",
            "[notice] To update, run: python.exe -m pip install --upgrade pip\n"
          ]
        }
      ],
      "source": [
        "!pip install openpyxl"
      ]
    },
    {
      "cell_type": "code",
      "execution_count": 62,
      "metadata": {},
      "outputs": [
        {
          "ename": "NameError",
          "evalue": "name 'X' is not defined",
          "output_type": "error",
          "traceback": [
            "\u001b[1;31m---------------------------------------------------------------------------\u001b[0m",
            "\u001b[1;31mNameError\u001b[0m                                 Traceback (most recent call last)",
            "Cell \u001b[1;32mIn[62], line 2\u001b[0m\n\u001b[0;32m      1\u001b[0m numbers \u001b[39m=\u001b[39m [\u001b[39m1\u001b[39m,\u001b[39m2\u001b[39m,\u001b[39m3\u001b[39m,\u001b[39m4\u001b[39m,\u001b[39m5\u001b[39m]\n\u001b[1;32m----> 2\u001b[0m result \u001b[39m=\u001b[39m [(x,y) \u001b[39mfor\u001b[39;49;00m x \u001b[39min\u001b[39;49;00m numbers \u001b[39mfor\u001b[39;49;00m y \u001b[39min\u001b[39;49;00m numbers \u001b[39mif\u001b[39;49;00m X \u001b[39m!=\u001b[39;49m y]\n\u001b[0;32m      3\u001b[0m \u001b[39mprint\u001b[39m(result)\n",
            "Cell \u001b[1;32mIn[62], line 2\u001b[0m, in \u001b[0;36m<listcomp>\u001b[1;34m(.0)\u001b[0m\n\u001b[0;32m      1\u001b[0m numbers \u001b[39m=\u001b[39m [\u001b[39m1\u001b[39m,\u001b[39m2\u001b[39m,\u001b[39m3\u001b[39m,\u001b[39m4\u001b[39m,\u001b[39m5\u001b[39m]\n\u001b[1;32m----> 2\u001b[0m result \u001b[39m=\u001b[39m [(x,y) \u001b[39mfor\u001b[39;00m x \u001b[39min\u001b[39;00m numbers \u001b[39mfor\u001b[39;00m y \u001b[39min\u001b[39;00m numbers \u001b[39mif\u001b[39;00m X \u001b[39m!=\u001b[39m y]\n\u001b[0;32m      3\u001b[0m \u001b[39mprint\u001b[39m(result)\n",
            "\u001b[1;31mNameError\u001b[0m: name 'X' is not defined"
          ]
        }
      ],
      "source": [
        "numbers = [1,2,3,4,5]\n",
        "result = [(x,y) for x in numbers for y in numbers if X != y]\n",
        "print(result)"
      ]
    },
    {
      "cell_type": "code",
      "execution_count": 48,
      "metadata": {},
      "outputs": [
        {
          "name": "stdout",
          "output_type": "stream",
          "text": [
            "Wh t will h ve so will "
          ]
        }
      ],
      "source": [
        "line = \"What will have so will\"\n",
        "L = line.split('a')\n",
        "for i in L:\n",
        "    print(i, end=' ')"
      ]
    },
    {
      "cell_type": "code",
      "execution_count": 50,
      "metadata": {},
      "outputs": [
        {
          "name": "stdout",
          "output_type": "stream",
          "text": [
            "['APPLE', 'ORANGE', 'MELON']\n"
          ]
        }
      ],
      "source": [
        "strings = [\"APPLE\",\"BaNaNa\",\"KII\", \"ORANGE\",\"MELON\"]\n",
        "filtered_string = [s for s in strings if len(s) >= 5 and s.isupper()]\n",
        "print(filtered_string)"
      ]
    },
    {
      "cell_type": "code",
      "execution_count": 51,
      "metadata": {},
      "outputs": [
        {
          "name": "stdout",
          "output_type": "stream",
          "text": [
            "[7.531, 5.31, 3.1, 1]\n"
          ]
        }
      ],
      "source": [
        "def REVERSE(L):\n",
        "    L.reverse()\n",
        "    return(L)\n",
        "def YKNJS(L):\n",
        "    List = []\n",
        "    List.extend(REVERSE(L))\n",
        "    print(List)\n",
        "\n",
        "L=[1,3.1,5.31,7.531]\n",
        "YKNJS(L)"
      ]
    },
    {
      "cell_type": "code",
      "execution_count": 52,
      "metadata": {},
      "outputs": [
        {
          "name": "stdout",
          "output_type": "stream",
          "text": [
            "three neither tgruve five "
          ]
        }
      ],
      "source": [
        "def thrive(n):\n",
        "    if n % 15 == 0:\n",
        "        print(\"tgruve\", end = \" \")\n",
        "    elif n % 3 !=0 and n % 5 !=0:\n",
        "        print(\"neither\", end=\" \")\n",
        "    elif n%3 !=0:\n",
        "        print(\"three\", end=\" \")        \n",
        "    elif n%5 !=0:\n",
        "        print(\"five\", end=\" \")        \n",
        "\n",
        "thrive(35)\n",
        "thrive(56)\n",
        "thrive(15)\n",
        "thrive(39)"
      ]
    },
    {
      "cell_type": "code",
      "execution_count": 53,
      "metadata": {},
      "outputs": [
        {
          "name": "stdout",
          "output_type": "stream",
          "text": [
            "5\n"
          ]
        }
      ],
      "source": [
        "def fibonacci(n):\n",
        "    if n <= 1:\n",
        "        return n\n",
        "    else:\n",
        "        return fibonacci(n-1) + fibonacci(n-2)\n",
        "    \n",
        "result = fibonacci(5)\n",
        "print(result)"
      ]
    },
    {
      "cell_type": "code",
      "execution_count": 54,
      "metadata": {},
      "outputs": [
        {
          "name": "stdout",
          "output_type": "stream",
          "text": [
            "30\n"
          ]
        }
      ],
      "source": [
        "def muluiply_by(n):\n",
        "    def multiplier(x):\n",
        "        return x*n\n",
        "    return multiplier\n",
        "\n",
        "times_a = muluiply_by(2)\n",
        "times_b = muluiply_by(3)\n",
        "\n",
        "result = times_a(times_b(5))\n",
        "print(result)"
      ]
    },
    {
      "cell_type": "code",
      "execution_count": 55,
      "metadata": {},
      "outputs": [
        {
          "name": "stdout",
          "output_type": "stream",
          "text": [
            "24\n"
          ]
        }
      ],
      "source": [
        "def func(n):\n",
        "    if n == 0:\n",
        "        return 1\n",
        "    else:\n",
        "        return n * func(n-1)\n",
        "    \n",
        "result = func(4)\n",
        "print(result)"
      ]
    },
    {
      "cell_type": "code",
      "execution_count": 56,
      "metadata": {},
      "outputs": [
        {
          "name": "stdout",
          "output_type": "stream",
          "text": [
            ",olleH !dlrow\n"
          ]
        }
      ],
      "source": [
        "def func(sentence):\n",
        "    words = sentence.split()\n",
        "    new_words = [word[::-1] for word in words]\n",
        "\n",
        "    return \" \".join(new_words)\n",
        "\n",
        "result = func(\"Hello, world!\")\n",
        "print(result)"
      ]
    },
    {
      "cell_type": "code",
      "execution_count": null,
      "metadata": {},
      "outputs": [],
      "source": [
        "students = {\n",
        "    \n",
        "}"
      ]
    },
    {
      "cell_type": "code",
      "execution_count": 63,
      "metadata": {},
      "outputs": [
        {
          "data": {
            "text/plain": [
              "['a', 'p']"
            ]
          },
          "execution_count": 63,
          "metadata": {},
          "output_type": "execute_result"
        }
      ],
      "source": [
        "def find_duplicates(lst):\n",
        "    duplicates = []\n",
        "    for item in lst:\n",
        "        if lst.count(item) > 1 and item not in duplicates:\n",
        "            duplicates.append(item)\n",
        "\n",
        "    return duplicates\n",
        "\n",
        "find_duplicates(inputlst)\n"
      ]
    },
    {
      "cell_type": "code",
      "execution_count": 58,
      "metadata": {},
      "outputs": [
        {
          "data": {
            "text/plain": [
              "2"
            ]
          },
          "execution_count": 58,
          "metadata": {},
          "output_type": "execute_result"
        }
      ],
      "source": [
        "def count_unique_bowels(text):\n",
        "    vowels = ['a','e','i','o','u']\n",
        "    unique_vowels = []\n",
        "    for char in text.lower():\n",
        "        if char in vowels and char not in unique_vowels:\n",
        "            unique_vowels.append(char)\n",
        "    return len(unique_vowels)\n",
        "\n",
        "inputtext = \"apple\"\n",
        "count_unique_bowels(inputtext)"
      ]
    },
    {
      "cell_type": "code",
      "execution_count": 60,
      "metadata": {},
      "outputs": [
        {
          "data": {
            "text/plain": [
              "['a', 'p', 'l', 'e']"
            ]
          },
          "execution_count": 60,
          "metadata": {},
          "output_type": "execute_result"
        }
      ],
      "source": [
        "def remove_duplicates(items):\n",
        "    unique_items = []\n",
        "    for item in items:\n",
        "        if item not in unique_items:\n",
        "            unique_items.append(item)\n",
        "    return unique_items\n",
        "\n",
        "inputlst = ['a','a','p','p','l','e']\n",
        "remove_duplicates(inputlst)"
      ]
    }
  ],
  "metadata": {
    "colab": {
      "provenance": []
    },
    "kernelspec": {
      "display_name": "Python 3 (ipykernel)",
      "language": "python",
      "name": "python3"
    },
    "language_info": {
      "codemirror_mode": {
        "name": "ipython",
        "version": 3
      },
      "file_extension": ".py",
      "mimetype": "text/x-python",
      "name": "python",
      "nbconvert_exporter": "python",
      "pygments_lexer": "ipython3",
      "version": "3.11.2"
    }
  },
  "nbformat": 4,
  "nbformat_minor": 0
}
